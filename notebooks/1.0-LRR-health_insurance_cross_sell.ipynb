{
 "cells": [
  {
   "cell_type": "markdown",
   "id": "acceptable-nepal",
   "metadata": {
    "ExecuteTime": {
     "end_time": "2021-02-02T22:15:50.983253Z",
     "start_time": "2021-02-02T22:15:50.979889Z"
    }
   },
   "source": [
    "# 0.0. Imports"
   ]
  },
  {
   "cell_type": "code",
   "execution_count": null,
   "id": "hundred-satisfaction",
   "metadata": {
    "ExecuteTime": {
     "end_time": "2021-07-31T16:18:32.050414Z",
     "start_time": "2021-07-31T16:17:51.863856Z"
    }
   },
   "outputs": [],
   "source": [
    "import pandas as pd\n",
    "import numpy  as np\n",
    "import os\n",
    "import seaborn as sns\n",
    "import scikitplot as skplt\n",
    "import psycopg2 as pg\n",
    "import pandas.io.sql as psql\n",
    "\n",
    "from matplotlib import pyplot as plt\n",
    "from IPython.core.display  import HTML\n",
    "from pandas_profiling import ProfileReport\n",
    "\n",
    "from sklearn import preprocessing as pp\n",
    "from sklearn import model_selection as ms\n",
    "from sklearn import ensemble as en\n",
    "from sklearn import neighbors as nh\n",
    "from sklearn import linear_model    as lm"
   ]
  },
  {
   "cell_type": "markdown",
   "id": "8c39875b",
   "metadata": {},
   "source": [
    "##  Helper Functions"
   ]
  },
  {
   "cell_type": "code",
   "execution_count": null,
   "id": "3fc4edc2",
   "metadata": {
    "ExecuteTime": {
     "end_time": "2021-07-31T16:18:41.840864Z",
     "start_time": "2021-07-31T16:18:41.826108Z"
    }
   },
   "outputs": [],
   "source": [
    "def jupyter_settings():\n",
    "    %matplotlib inline\n",
    "    %pylab inline\n",
    "    \n",
    "    plt.style.use( 'bmh' )\n",
    "    plt.rcParams['figure.figsize'] = [25, 12]\n",
    "    plt.rcParams['font.size'] = 24\n",
    "    \n",
    "    display( HTML( '<style>.container { width:100% !important; }</style>') )\n",
    "    pd.options.display.max_columns = None\n",
    "    pd.options.display.max_rows = None\n",
    "    pd.set_option( 'display.expand_frame_repr', False )\n",
    "    \n",
    "    sns.set()\n",
    "# def jupyter_settings():\n",
    "#     %matplotlib inline\n",
    "#     %pylab inline\n",
    "    \n",
    "#     plt.style.use( 'fivethirtyeight' )\n",
    "#     plt.rcParams['figure.figsize'] = [20, 8]\n",
    "#     plt.rcParams['font.size'] = 24\n",
    "#     plt.rcParams['font.family'] = 'serif'\n",
    "#     plt.rcParams['font.serif'] = 'Ubuntu'\n",
    "#     plt.rcParams['font.monospace'] = 'Ubuntu Mono'\n",
    "#     plt.rcParams['font.size'] = 12\n",
    "#     plt.rcParams['axes.labelsize'] = 14\n",
    "#     plt.rcParams['axes.labelweight'] = 'bold'\n",
    "#     plt.rcParams['axes.titlesize'] = 15\n",
    "#     plt.rcParams['xtick.labelsize'] = 10\n",
    "#     plt.rcParams['ytick.labelsize'] = 10\n",
    "#     plt.rcParams['legend.fontsize'] = 12\n",
    "#     plt.rcParams['figure.titlesize'] = 12\n",
    "    \n",
    "#     display( HTML( '<style>.container { width:100% !important; }</style>') )\n",
    "#     pd.options.display.max_columns = None\n",
    "#     pd.options.display.max_rows = None\n",
    "#     pd.set_option( 'display.expand_frame_repr', False )\n",
    "    \n",
    "#     #sns.set()\n",
    "#     sns.set_style('ticks')\n",
    "    "
   ]
  },
  {
   "cell_type": "code",
   "execution_count": null,
   "id": "76d827f7",
   "metadata": {
    "ExecuteTime": {
     "end_time": "2021-07-31T16:18:43.711246Z",
     "start_time": "2021-07-31T16:18:43.682866Z"
    }
   },
   "outputs": [],
   "source": [
    "jupyter_settings()"
   ]
  },
  {
   "cell_type": "markdown",
   "id": "warming-lobby",
   "metadata": {},
   "source": [
    "## 0.1. Loading Dataset"
   ]
  },
  {
   "cell_type": "code",
   "execution_count": null,
   "id": "posted-colony",
   "metadata": {
    "ExecuteTime": {
     "end_time": "2021-07-31T16:18:46.839618Z",
     "start_time": "2021-07-31T16:18:46.833499Z"
    }
   },
   "outputs": [],
   "source": [
    "# Credenciais do Banco de dados Postgress\n",
    "param_dict={\n",
    "    'USER': os.getenv('USER_CDS'),\n",
    "    'HOST': os.getenv('HOST_CDS'),\n",
    "    'PORT': os.getenv('PORT_NUM'),\n",
    "    'DATABASE': os.getenv('DATABASE_CDS'),\n",
    "    'PWD': os.getenv('PWD_CDS')\n",
    "}"
   ]
  },
  {
   "cell_type": "code",
   "execution_count": null,
   "id": "emerging-carry",
   "metadata": {
    "ExecuteTime": {
     "end_time": "2021-07-31T16:19:39.607987Z",
     "start_time": "2021-07-31T16:18:49.691064Z"
    }
   },
   "outputs": [],
   "source": [
    "# Acessando os dados com SQL\n",
    "\n",
    "conn = pg.connect(user=param_dict['USER'],\n",
    "                  password= param_dict['PWD'],\n",
    "                  host=param_dict['HOST'],\n",
    "                  port=param_dict['PORT'],\n",
    "                  database=param_dict['DATABASE'])\n",
    "\n",
    "#SELECT nspname\n",
    "#FROM pg_catalog.pg_namespace pn \n",
    "\n",
    "#select tablename\n",
    "#from pg_catalog.pg_tables\n",
    "#where schemaname = 'pa004\n",
    "\n",
    "query ='''\n",
    "SELECT *\n",
    "FROM pa004.users u inner join pa004.vehicle v on (u.id=v.id)\n",
    "                   inner join pa004.insurance i on (u.id = i.id)\n",
    "'''\n",
    "df_raw=psql.read_sql(query, conn)\n",
    "#df_raw= df_raw.drop(df_raw.columns[[5,9]], axis=1)\n",
    "conn.close()\n"
   ]
  },
  {
   "cell_type": "code",
   "execution_count": null,
   "id": "7a5ebfb6",
   "metadata": {
    "ExecuteTime": {
     "end_time": "2021-07-31T16:20:08.436890Z",
     "start_time": "2021-07-31T16:20:08.296512Z"
    }
   },
   "outputs": [],
   "source": [
    "df_raw.head()"
   ]
  },
  {
   "cell_type": "markdown",
   "id": "cutting-statement",
   "metadata": {},
   "source": [
    "# 1.0. Data Description"
   ]
  },
  {
   "cell_type": "code",
   "execution_count": null,
   "id": "convinced-disclaimer",
   "metadata": {
    "ExecuteTime": {
     "end_time": "2021-07-31T16:20:14.086505Z",
     "start_time": "2021-07-31T16:20:14.059223Z"
    }
   },
   "outputs": [],
   "source": [
    "df_aux= df_raw.copy\n",
    "df1 = df_raw.copy()\n"
   ]
  },
  {
   "cell_type": "code",
   "execution_count": null,
   "id": "d05770ce",
   "metadata": {
    "ExecuteTime": {
     "end_time": "2021-07-31T16:20:30.374550Z",
     "start_time": "2021-07-31T16:20:30.073984Z"
    }
   },
   "outputs": [],
   "source": [
    "df1= df1.drop(df1.columns[[5]], axis=1)\n",
    "df1['id']=df_raw.iloc[:,0]\n",
    "df1= df1[['id', 'gender', 'age', 'region_code', 'policy_sales_channel',\n",
    "       'driving_license', 'vehicle_age', 'vehicle_damage',\n",
    "       'previously_insured', 'annual_premium', 'vintage', 'response']]"
   ]
  },
  {
   "cell_type": "code",
   "execution_count": null,
   "id": "smart-amino",
   "metadata": {
    "ExecuteTime": {
     "end_time": "2021-07-31T16:20:32.193156Z",
     "start_time": "2021-07-31T16:20:32.185779Z"
    }
   },
   "outputs": [],
   "source": [
    "cols_new = ['id', 'gender', 'age', 'region_code', 'policy_sales_channel',\n",
    "       'driving_license', 'vehicle_age', 'vehicle_damage',\n",
    "       'previously_insured', 'annual_premium', 'vintage', 'response']\n",
    "            \n",
    "df1.columns = cols_new            "
   ]
  },
  {
   "cell_type": "code",
   "execution_count": null,
   "id": "e856f53a",
   "metadata": {
    "ExecuteTime": {
     "end_time": "2021-07-31T16:20:34.524821Z",
     "start_time": "2021-07-31T16:20:34.498756Z"
    }
   },
   "outputs": [],
   "source": [
    "df1.head()"
   ]
  },
  {
   "cell_type": "markdown",
   "id": "saved-plaza",
   "metadata": {},
   "source": [
    "## 1.1. Data Dimension"
   ]
  },
  {
   "cell_type": "code",
   "execution_count": null,
   "id": "european-pickup",
   "metadata": {
    "ExecuteTime": {
     "end_time": "2021-07-31T16:20:55.928194Z",
     "start_time": "2021-07-31T16:20:55.920384Z"
    }
   },
   "outputs": [],
   "source": [
    "print( 'Number of Rows: {}'.format( df1.shape[0] ) )\n",
    "print( 'Number of Columns: {}'.format( df1.shape[1] ) )"
   ]
  },
  {
   "cell_type": "markdown",
   "id": "dramatic-marriage",
   "metadata": {},
   "source": [
    "## 1.2. Data Types"
   ]
  },
  {
   "cell_type": "code",
   "execution_count": null,
   "id": "mobile-intelligence",
   "metadata": {
    "ExecuteTime": {
     "end_time": "2021-07-31T16:20:58.568476Z",
     "start_time": "2021-07-31T16:20:58.553796Z"
    }
   },
   "outputs": [],
   "source": [
    "df1.dtypes"
   ]
  },
  {
   "cell_type": "markdown",
   "id": "owned-essex",
   "metadata": {},
   "source": [
    "## 1.3. Check NA"
   ]
  },
  {
   "cell_type": "code",
   "execution_count": null,
   "id": "wound-roads",
   "metadata": {
    "ExecuteTime": {
     "end_time": "2021-07-31T16:21:03.842894Z",
     "start_time": "2021-07-31T16:21:03.728374Z"
    }
   },
   "outputs": [],
   "source": [
    "df1.isna().sum()"
   ]
  },
  {
   "cell_type": "markdown",
   "id": "chinese-independence",
   "metadata": {},
   "source": [
    "## 1.4. Data Descriptive"
   ]
  },
  {
   "cell_type": "code",
   "execution_count": null,
   "id": "direct-implementation",
   "metadata": {
    "ExecuteTime": {
     "end_time": "2021-07-31T16:21:06.705640Z",
     "start_time": "2021-07-31T16:21:06.655813Z"
    }
   },
   "outputs": [],
   "source": [
    "num_attributes = df1.select_dtypes( include=['int64', 'float64'] )\n",
    "cat_attributes = df1.select_dtypes( exclude=['int64', 'float64', 'datetime64[ns]'])"
   ]
  },
  {
   "cell_type": "code",
   "execution_count": null,
   "id": "conscious-aircraft",
   "metadata": {
    "ExecuteTime": {
     "end_time": "2021-07-31T16:21:11.851888Z",
     "start_time": "2021-07-31T16:21:10.504230Z"
    }
   },
   "outputs": [],
   "source": [
    "# Central Tendency - Mean, Median\n",
    "ct1 = pd.DataFrame( num_attributes.apply( np.mean ) ).T\n",
    "ct2 = pd.DataFrame( num_attributes.apply( np.median ) ).T\n",
    "\n",
    "# dispersion - std, min, max, range, skew, kurtosis\n",
    "d1 = pd.DataFrame( num_attributes.apply( np.std ) ).T \n",
    "d2 = pd.DataFrame( num_attributes.apply( min ) ).T \n",
    "d3 = pd.DataFrame( num_attributes.apply( max ) ).T \n",
    "d4 = pd.DataFrame( num_attributes.apply( lambda x: x.max() - x.min() ) ).T \n",
    "d5 = pd.DataFrame( num_attributes.apply( lambda x: x.skew() ) ).T \n",
    "d6 = pd.DataFrame( num_attributes.apply( lambda x: x.kurtosis() ) ).T \n",
    "\n",
    "# concatenar\n",
    "m = pd.concat( [d2, d3, d4, ct1, ct2, d1, d5, d6] ).T.reset_index()\n",
    "m.columns = ['attributes', 'min', 'max', 'range', 'mean', 'median', 'std', 'skew', 'kurtosis']\n",
    "m"
   ]
  },
  {
   "cell_type": "markdown",
   "id": "delayed-blond",
   "metadata": {},
   "source": [
    "# 2.0. Feature Engineering"
   ]
  },
  {
   "cell_type": "code",
   "execution_count": null,
   "id": "liquid-rescue",
   "metadata": {
    "ExecuteTime": {
     "end_time": "2021-07-31T16:21:29.729012Z",
     "start_time": "2021-07-31T16:21:29.695296Z"
    }
   },
   "outputs": [],
   "source": [
    "df2 =  df1.copy()"
   ]
  },
  {
   "cell_type": "code",
   "execution_count": null,
   "id": "judicial-unemployment",
   "metadata": {
    "ExecuteTime": {
     "end_time": "2021-07-31T16:21:35.237013Z",
     "start_time": "2021-07-31T16:21:34.928066Z"
    }
   },
   "outputs": [],
   "source": [
    "# vehicle age\n",
    "df2['vehicle_age'] =  df2['vehicle_age'].apply( lambda x: 'over_2_years' if x == '> 2 Years' else 'between_1_2_year' if x == '1-2 Year' else 'below_1_year' ) \n",
    "\n",
    "# vehicle damage\n",
    "df2['vehicle_damage'] =  df2['vehicle_damage'].apply( lambda x: 1 if x == 'Yes' else 0 )"
   ]
  },
  {
   "cell_type": "markdown",
   "id": "following-blanket",
   "metadata": {},
   "source": [
    "# 3.0. Data Filtering"
   ]
  },
  {
   "cell_type": "code",
   "execution_count": null,
   "id": "czech-novel",
   "metadata": {
    "ExecuteTime": {
     "end_time": "2021-07-31T16:21:38.840723Z",
     "start_time": "2021-07-31T16:21:38.815973Z"
    }
   },
   "outputs": [],
   "source": [
    "df3 = df2.copy()"
   ]
  },
  {
   "cell_type": "markdown",
   "id": "possible-glasgow",
   "metadata": {},
   "source": [
    "# 4.0. EDA"
   ]
  },
  {
   "cell_type": "code",
   "execution_count": null,
   "id": "enclosed-patio",
   "metadata": {
    "ExecuteTime": {
     "end_time": "2021-07-31T16:21:41.024747Z",
     "start_time": "2021-07-31T16:21:40.999812Z"
    }
   },
   "outputs": [],
   "source": [
    "df4 = df3.copy()"
   ]
  },
  {
   "cell_type": "markdown",
   "id": "friendly-bandwidth",
   "metadata": {},
   "source": [
    "## 4.1. Univariate Analysis"
   ]
  },
  {
   "cell_type": "code",
   "execution_count": null,
   "id": "contemporary-minority",
   "metadata": {
    "ExecuteTime": {
     "end_time": "2021-07-31T16:21:46.205827Z",
     "start_time": "2021-07-31T16:21:45.664367Z"
    }
   },
   "outputs": [],
   "source": [
    "#'age'\n",
    "sns.boxplot( x='response', y='age', data=df4 )"
   ]
  },
  {
   "cell_type": "code",
   "execution_count": null,
   "id": "expensive-picnic",
   "metadata": {
    "ExecuteTime": {
     "end_time": "2021-07-31T16:22:01.473031Z",
     "start_time": "2021-07-31T16:22:00.710442Z"
    },
    "cell_style": "split"
   },
   "outputs": [],
   "source": [
    "aux00 = df4.loc[df4['response'] == 0, 'age']\n",
    "sns.histplot( aux00 )"
   ]
  },
  {
   "cell_type": "code",
   "execution_count": null,
   "id": "helpful-subscription",
   "metadata": {
    "ExecuteTime": {
     "end_time": "2021-07-31T16:22:09.099680Z",
     "start_time": "2021-07-31T16:22:08.560515Z"
    },
    "cell_style": "split"
   },
   "outputs": [],
   "source": [
    "aux00 = df4.loc[df4['response'] == 1, 'age']\n",
    "sns.histplot( aux00 )"
   ]
  },
  {
   "cell_type": "code",
   "execution_count": null,
   "id": "innovative-explorer",
   "metadata": {
    "ExecuteTime": {
     "end_time": "2021-07-31T16:22:17.364902Z",
     "start_time": "2021-07-31T16:22:15.120272Z"
    }
   },
   "outputs": [],
   "source": [
    "#'annual_premium'\n",
    "aux = df4[df4['annual_premium'] < 80000]\n",
    "sns.boxplot( x='response', y='annual_premium', data=aux )"
   ]
  },
  {
   "cell_type": "code",
   "execution_count": null,
   "id": "proud-turning",
   "metadata": {
    "ExecuteTime": {
     "end_time": "2021-07-31T16:22:27.452682Z",
     "start_time": "2021-07-31T16:22:26.558529Z"
    },
    "cell_style": "split"
   },
   "outputs": [],
   "source": [
    "aux = df4[(df4['annual_premium'] > 10000) & (df4['annual_premium'] < 80000 )]\n",
    "aux00 = aux.loc[aux['response'] == 0, 'annual_premium']\n",
    "sns.histplot( aux00 )"
   ]
  },
  {
   "cell_type": "code",
   "execution_count": null,
   "id": "designing-inventory",
   "metadata": {
    "ExecuteTime": {
     "end_time": "2021-07-31T16:22:31.136435Z",
     "start_time": "2021-07-31T16:22:30.576249Z"
    },
    "cell_style": "split",
    "scrolled": true
   },
   "outputs": [],
   "source": [
    "aux00 = aux.loc[aux['response'] == 1, 'annual_premium']\n",
    "sns.histplot( aux00 )"
   ]
  },
  {
   "cell_type": "code",
   "execution_count": null,
   "id": "fatty-launch",
   "metadata": {
    "ExecuteTime": {
     "end_time": "2021-07-31T16:22:36.116526Z",
     "start_time": "2021-07-31T16:22:35.702310Z"
    }
   },
   "outputs": [],
   "source": [
    "#'driving_license'\n",
    "aux = df4[['driving_license', 'response']].groupby( 'response' ).sum().reset_index()\n",
    "aux.head()\n",
    "aux['driving_license_perc'] = aux['driving_license'] / aux['driving_license'].sum()\n",
    "sns.barplot( x='response', y='driving_license', data=aux )"
   ]
  },
  {
   "cell_type": "code",
   "execution_count": null,
   "id": "loose-republican",
   "metadata": {
    "ExecuteTime": {
     "end_time": "2021-07-31T16:23:00.733442Z",
     "start_time": "2021-07-31T16:23:00.119810Z"
    }
   },
   "outputs": [],
   "source": [
    "# 'region_code'\n",
    "aux0 = df4[['id', 'region_code', 'response']].groupby( ['region_code', 'response'] ).count().reset_index()\n",
    "\n",
    "sns.scatterplot( x='region_code', y='id', hue='response', data=aux0 )"
   ]
  },
  {
   "cell_type": "code",
   "execution_count": null,
   "id": "geological-indonesia",
   "metadata": {
    "ExecuteTime": {
     "end_time": "2021-02-09T23:46:31.598790Z",
     "start_time": "2021-02-09T23:46:31.596345Z"
    }
   },
   "outputs": [],
   "source": [
    "#'gender'"
   ]
  },
  {
   "cell_type": "code",
   "execution_count": null,
   "id": "heated-illinois",
   "metadata": {
    "ExecuteTime": {
     "end_time": "2021-07-31T16:23:07.444289Z",
     "start_time": "2021-07-31T16:23:07.334481Z"
    }
   },
   "outputs": [],
   "source": [
    "#'previously_insured'\n",
    "pd.crosstab( df4['previously_insured'], df4['response'] ).apply( lambda x: x / x.sum(), axis=1 )"
   ]
  },
  {
   "cell_type": "code",
   "execution_count": null,
   "id": "preceding-reducing",
   "metadata": {
    "ExecuteTime": {
     "end_time": "2021-07-31T16:23:12.629775Z",
     "start_time": "2021-07-31T16:23:12.454666Z"
    }
   },
   "outputs": [],
   "source": [
    "#'vehicle_age'\n",
    "df4[['vehicle_age', 'response']].value_counts( normalize=True ).reset_index()"
   ]
  },
  {
   "cell_type": "code",
   "execution_count": null,
   "id": "stone-expansion",
   "metadata": {
    "ExecuteTime": {
     "end_time": "2021-07-31T16:23:20.340111Z",
     "start_time": "2021-07-31T16:23:17.729270Z"
    }
   },
   "outputs": [],
   "source": [
    "#'policy_sales_channel'\n",
    "plt.figure( figsize=(24, 12 ))\n",
    "aux = df4[['policy_sales_channel', 'response']].groupby( 'policy_sales_channel').sum().reset_index()\n",
    "sns.barplot( x='response', y='policy_sales_channel', data=aux )"
   ]
  },
  {
   "cell_type": "code",
   "execution_count": null,
   "id": "otherwise-impossible",
   "metadata": {
    "ExecuteTime": {
     "end_time": "2021-02-09T23:46:35.437715Z",
     "start_time": "2021-02-09T23:46:35.433993Z"
    }
   },
   "outputs": [],
   "source": []
  },
  {
   "cell_type": "code",
   "execution_count": null,
   "id": "independent-limit",
   "metadata": {
    "ExecuteTime": {
     "end_time": "2021-07-31T16:23:27.595459Z",
     "start_time": "2021-07-31T16:23:27.247389Z"
    }
   },
   "outputs": [],
   "source": [
    "# vintage\n",
    "sns.boxplot( x='response', y='vintage', data=df4 )"
   ]
  },
  {
   "cell_type": "code",
   "execution_count": null,
   "id": "subtle-oregon",
   "metadata": {
    "ExecuteTime": {
     "end_time": "2021-07-31T16:23:31.360475Z",
     "start_time": "2021-07-31T16:23:30.673054Z"
    },
    "cell_style": "split"
   },
   "outputs": [],
   "source": [
    "aux00 = df4.loc[df4['response'] == 0, 'vintage']\n",
    "sns.histplot( aux00 )"
   ]
  },
  {
   "cell_type": "code",
   "execution_count": null,
   "id": "polar-speaking",
   "metadata": {
    "ExecuteTime": {
     "end_time": "2021-07-31T16:23:34.598038Z",
     "start_time": "2021-07-31T16:23:34.103783Z"
    },
    "cell_style": "split",
    "scrolled": true
   },
   "outputs": [],
   "source": [
    "aux00 = df4.loc[df4['response'] == 1, 'vintage']\n",
    "sns.histplot( aux00 )"
   ]
  },
  {
   "cell_type": "markdown",
   "id": "7357500b",
   "metadata": {},
   "source": [
    "## Univariate Analysis - ProfileReport"
   ]
  },
  {
   "cell_type": "code",
   "execution_count": null,
   "id": "97a304e1",
   "metadata": {
    "ExecuteTime": {
     "start_time": "2021-07-31T16:24:52.820Z"
    }
   },
   "outputs": [],
   "source": [
    "profile= ProfileReport(df4, title='Health Insurance')\n",
    "profile.to_file(output_file='health_insurance_statistcs.html')"
   ]
  },
  {
   "cell_type": "markdown",
   "id": "academic-tsunami",
   "metadata": {},
   "source": [
    "# 5.0. Data Preparation"
   ]
  },
  {
   "cell_type": "code",
   "execution_count": null,
   "id": "interested-explorer",
   "metadata": {
    "ExecuteTime": {
     "end_time": "2021-02-09T23:52:30.052868Z",
     "start_time": "2021-02-09T23:52:30.020257Z"
    }
   },
   "outputs": [],
   "source": [
    "df5 = df4.copy()"
   ]
  },
  {
   "cell_type": "code",
   "execution_count": null,
   "id": "interim-highlight",
   "metadata": {
    "ExecuteTime": {
     "end_time": "2021-02-09T23:52:30.466997Z",
     "start_time": "2021-02-09T23:52:30.324047Z"
    }
   },
   "outputs": [],
   "source": [
    "X = df4.drop( 'response', axis=1 )\n",
    "y = df4['response'].copy() \n",
    "\n",
    "x_train, x_validation, y_train, y_validation = ms.train_test_split( X, y, test_size=0.20 )\n",
    "\n",
    "df5 = pd.concat( [x_train, y_train], axis=1 )"
   ]
  },
  {
   "cell_type": "markdown",
   "id": "appointed-fraction",
   "metadata": {},
   "source": [
    "## Standardization"
   ]
  },
  {
   "cell_type": "code",
   "execution_count": null,
   "id": "joint-brake",
   "metadata": {
    "ExecuteTime": {
     "end_time": "2021-02-09T23:52:31.834411Z",
     "start_time": "2021-02-09T23:52:31.794527Z"
    }
   },
   "outputs": [],
   "source": [
    "ss = pp.StandardScaler()\n",
    "\n",
    "# annual_premium\n",
    "df5['annual_premium'] = ss.fit_transform( df5[['annual_premium']].values )"
   ]
  },
  {
   "cell_type": "markdown",
   "id": "yellow-atlantic",
   "metadata": {},
   "source": [
    "## Rescaling"
   ]
  },
  {
   "cell_type": "code",
   "execution_count": null,
   "id": "respiratory-granny",
   "metadata": {
    "ExecuteTime": {
     "end_time": "2021-02-09T23:52:32.334018Z",
     "start_time": "2021-02-09T23:52:32.289176Z"
    }
   },
   "outputs": [],
   "source": [
    "mms_age = pp.MinMaxScaler()\n",
    "mms_vintage = pp.MinMaxScaler()\n",
    "\n",
    "# Age\n",
    "df5['age'] = mms_age.fit_transform( df5[['age']].values )\n",
    "\n",
    "# vintage\n",
    "df5['vintage'] = mms_vintage.fit_transform( df5[['vintage']].values )"
   ]
  },
  {
   "cell_type": "markdown",
   "id": "parallel-rates",
   "metadata": {},
   "source": [
    "## Encoder"
   ]
  },
  {
   "cell_type": "code",
   "execution_count": null,
   "id": "metallic-johnson",
   "metadata": {
    "ExecuteTime": {
     "end_time": "2021-02-09T23:52:33.905198Z",
     "start_time": "2021-02-09T23:52:33.736100Z"
    }
   },
   "outputs": [],
   "source": [
    "# gender - One Hot Encoding / Target Encoding\n",
    "target_encode_gender = df5.groupby( 'gender' )['response'].mean()\n",
    "df5.loc[:, 'gender'] = df5['gender'].map( target_encode_gender )\n",
    "\n",
    "# region_code - Target Encoding / Frequency Encoding\n",
    "target_encode_region_code = df5.groupby( 'region_code' )['response'].mean()\n",
    "df5.loc[:, 'region_code'] = df5['region_code'].map( target_encode_region_code )\n",
    "\n",
    "# vehicle_age - One Hot Encoding / Frequency Encoding\n",
    "df5 = pd.get_dummies( df5, prefix='vehicle_age', columns=['vehicle_age'] )\n",
    "\n",
    "# policy_sales_channel - Target Encoding / Frequency Encoding\n",
    "fe_policy_sales_channel = df5.groupby( 'policy_sales_channel' ).size() / len( df5 ) \n",
    "df5.loc[:, 'policy_sales_channel'] = df5['policy_sales_channel'].map( fe_policy_sales_channel )"
   ]
  },
  {
   "cell_type": "markdown",
   "id": "existing-alert",
   "metadata": {
    "ExecuteTime": {
     "end_time": "2021-02-03T00:36:38.875624Z",
     "start_time": "2021-02-03T00:36:38.873492Z"
    }
   },
   "source": [
    "## 5.4. Validation Preparation"
   ]
  },
  {
   "cell_type": "code",
   "execution_count": null,
   "id": "emerging-federation",
   "metadata": {
    "ExecuteTime": {
     "end_time": "2021-02-09T23:53:32.646340Z",
     "start_time": "2021-02-09T23:53:32.544491Z"
    }
   },
   "outputs": [],
   "source": [
    "# gender\n",
    "x_validation.loc[:, 'gender'] =  x_validation.loc[:, 'gender'].map( target_encode_gender )\n",
    "\n",
    "# age\n",
    "x_validation.loc[:, 'age'] = mms_age.transform( x_validation[['age']].values )\n",
    "\n",
    "# region_code\n",
    "x_validation.loc[:, 'region_code'] = x_validation.loc[:, 'region_code'].map( target_encode_region_code )\n",
    "\n",
    "# vehicle_age\n",
    "x_validation = pd.get_dummies( x_validation, prefix='vehicle_age', columns=['vehicle_age'] )\n",
    "\n",
    "# annual_premium\n",
    "x_validation.loc[:, 'annual_premium'] = ss.transform( x_validation[['annual_premium']].values )\n",
    "\n",
    "# policy_sales_channel\n",
    "x_validation.loc[:, 'policy_sales_channel'] = x_validation['policy_sales_channel'].map( fe_policy_sales_channel )\n",
    "\n",
    "# vintage\n",
    "x_validation.loc[:, 'vintage'] = mms_vintage.transform( x_validation[['vintage']].values )\n",
    "\n",
    "# fillna\n",
    "x_validation = x_validation.fillna( 0 )"
   ]
  },
  {
   "cell_type": "markdown",
   "id": "listed-queen",
   "metadata": {},
   "source": [
    "# 6.0. Feature Selection"
   ]
  },
  {
   "cell_type": "markdown",
   "id": "characteristic-canberra",
   "metadata": {},
   "source": [
    "## 6.2. Features Importancia"
   ]
  },
  {
   "cell_type": "code",
   "execution_count": null,
   "id": "understanding-venture",
   "metadata": {
    "ExecuteTime": {
     "end_time": "2021-02-09T23:54:21.187629Z",
     "start_time": "2021-02-09T23:53:59.020811Z"
    }
   },
   "outputs": [],
   "source": [
    "# model definition\n",
    "forest = en.ExtraTreesClassifier( n_estimators=250, random_state=0, n_jobs=-1 )\n",
    "\n",
    "# data preparation\n",
    "x_train_n = df5.drop( ['id', 'response'], axis=1 )\n",
    "y_train_n = y_train.values\n",
    "forest.fit( x_train_n, y_train_n )"
   ]
  },
  {
   "cell_type": "code",
   "execution_count": null,
   "id": "successful-anaheim",
   "metadata": {
    "ExecuteTime": {
     "end_time": "2021-02-09T23:54:25.269229Z",
     "start_time": "2021-02-09T23:54:21.192294Z"
    }
   },
   "outputs": [],
   "source": [
    "importances = forest.feature_importances_\n",
    "std = np.std([tree.feature_importances_ for tree in forest.estimators_], axis=0)\n",
    "indices = np.argsort(importances)[::-1]\n",
    "\n",
    "# Print the feature ranking\n",
    "print(\"Feature ranking:\")\n",
    "df = pd.DataFrame()\n",
    "for i, j in zip( x_train_n, forest.feature_importances_ ):\n",
    "    aux = pd.DataFrame( {'feature': i, 'importance': j}, index=[0] )\n",
    "    df = pd.concat( [df, aux], axis=0 )\n",
    "    \n",
    "print( df.sort_values( 'importance', ascending=False ) )\n",
    "\n",
    "# Plot the impurity-based feature importances of the forest\n",
    "plt.figure()\n",
    "plt.title(\"Feature importances\")\n",
    "plt.bar(range(x_train_n.shape[1]), importances[indices], color=\"r\", yerr=std[indices], align=\"center\")\n",
    "plt.xticks(range(x_train_n.shape[1]), indices)\n",
    "plt.xlim([-1, x_train_n.shape[1]])\n",
    "plt.show()"
   ]
  },
  {
   "cell_type": "markdown",
   "id": "dress-venice",
   "metadata": {},
   "source": [
    "# 7.0. Machine Learning"
   ]
  },
  {
   "cell_type": "code",
   "execution_count": null,
   "id": "vertical-search",
   "metadata": {
    "ExecuteTime": {
     "end_time": "2021-02-09T23:57:05.594272Z",
     "start_time": "2021-02-09T23:57:05.579455Z"
    }
   },
   "outputs": [],
   "source": [
    "cols_selected = ['annual_premium', 'vintage', 'age', 'region_code', 'vehicle_damage', 'previously_insured',\n",
    "                 'policy_sales_channel']\n",
    "\n",
    "x_train = df5[ cols_selected ]\n",
    "x_val = x_validation[ cols_selected ]\n",
    "y_val = y_validation.copy()"
   ]
  },
  {
   "cell_type": "markdown",
   "id": "electronic-distance",
   "metadata": {},
   "source": [
    "## 7.1. KNN"
   ]
  },
  {
   "cell_type": "code",
   "execution_count": null,
   "id": "liberal-addition",
   "metadata": {
    "ExecuteTime": {
     "end_time": "2021-02-09T23:57:23.209932Z",
     "start_time": "2021-02-09T23:57:06.140005Z"
    }
   },
   "outputs": [],
   "source": [
    "# model definition\n",
    "knn_model = nh.KNeighborsClassifier( n_neighbors=7 )\n",
    "\n",
    "# model training\n",
    "knn_model.fit( x_train, y_train )\n",
    "\n",
    "# model prediction - Poder de GENERALIZACAO \n",
    "yhat_knn = knn_model.predict_proba( x_val )"
   ]
  },
  {
   "cell_type": "code",
   "execution_count": null,
   "id": "terminal-fifth",
   "metadata": {
    "ExecuteTime": {
     "end_time": "2021-02-09T23:57:23.514415Z",
     "start_time": "2021-02-09T23:57:23.212659Z"
    },
    "cell_style": "split",
    "hide_input": false
   },
   "outputs": [],
   "source": [
    " # Accumulative Gain\n",
    "skplt.metrics.plot_cumulative_gain( y_val, yhat_knn );"
   ]
  },
  {
   "cell_type": "code",
   "execution_count": null,
   "id": "sealed-adventure",
   "metadata": {
    "ExecuteTime": {
     "end_time": "2021-02-09T23:57:24.783582Z",
     "start_time": "2021-02-09T23:57:23.517924Z"
    },
    "cell_style": "split",
    "hide_input": false
   },
   "outputs": [],
   "source": [
    "# model definition\n",
    "lr_model = lm.LogisticRegression( random_state=42 ) \n",
    "\n",
    "# model training\n",
    "lr_model.fit( x_train, y_train )\n",
    "\n",
    "# model prediction\n",
    "yhat_lr = lr_model.predict_proba( x_val )\n",
    "\n",
    "# Accumulative Gain\n",
    "skplt.metrics.plot_cumulative_gain( y_val, yhat_lr );"
   ]
  },
  {
   "cell_type": "code",
   "execution_count": null,
   "id": "retired-pierre",
   "metadata": {},
   "outputs": [],
   "source": []
  },
  {
   "cell_type": "markdown",
   "id": "moving-soldier",
   "metadata": {},
   "source": [
    "## 7.2. Extra Trees"
   ]
  },
  {
   "cell_type": "code",
   "execution_count": null,
   "id": "recovered-fraction",
   "metadata": {
    "ExecuteTime": {
     "end_time": "2021-02-09T23:49:39.359843Z",
     "start_time": "2021-02-09T23:48:32.383879Z"
    }
   },
   "outputs": [],
   "source": [
    "# model definition\n",
    "et = en.ExtraTreesClassifier( n_estimators=1000, n_jobs=-1, random_state=42 )\n",
    "\n",
    "# model fit\n",
    "et.fit( x_train, y_train )\n",
    "\n",
    "# model predict\n",
    "yhat_et = et.predict_proba( x_val )"
   ]
  },
  {
   "cell_type": "code",
   "execution_count": null,
   "id": "permanent-serial",
   "metadata": {
    "ExecuteTime": {
     "end_time": "2021-02-09T23:49:57.177119Z",
     "start_time": "2021-02-09T23:49:39.364664Z"
    }
   },
   "outputs": [],
   "source": [
    "# model predict\n",
    "yhat_et = et.predict_proba( x_val )"
   ]
  },
  {
   "cell_type": "code",
   "execution_count": null,
   "id": "married-savings",
   "metadata": {
    "ExecuteTime": {
     "end_time": "2021-02-09T23:47:26.060220Z",
     "start_time": "2021-02-09T23:47:25.764763Z"
    },
    "cell_style": "split",
    "hide_input": false
   },
   "outputs": [],
   "source": [
    " # Accumulative Gain\n",
    "skplt.metrics.plot_cumulative_gain( y_val, yhat_knn );"
   ]
  },
  {
   "cell_type": "code",
   "execution_count": null,
   "id": "killing-underground",
   "metadata": {
    "ExecuteTime": {
     "end_time": "2021-02-09T23:47:27.248090Z",
     "start_time": "2021-02-09T23:47:26.063709Z"
    },
    "cell_style": "split",
    "hide_input": false
   },
   "outputs": [],
   "source": [
    "# model definition\n",
    "lr_model = lm.LogisticRegression( random_state=42 ) \n",
    "\n",
    "# model training\n",
    "lr_model.fit( x_train, y_train )\n",
    "\n",
    "# model prediction\n",
    "yhat_lr = lr_model.predict_proba( x_val )\n",
    "\n",
    "# Accumulative Gain\n",
    "skplt.metrics.plot_cumulative_gain( y_val, yhat_lr );"
   ]
  },
  {
   "cell_type": "code",
   "execution_count": null,
   "id": "extensive-findings",
   "metadata": {},
   "outputs": [],
   "source": []
  },
  {
   "cell_type": "markdown",
   "id": "interior-convert",
   "metadata": {},
   "source": [
    "# 8.0. Model Performance "
   ]
  },
  {
   "cell_type": "code",
   "execution_count": null,
   "id": "persistent-screening",
   "metadata": {
    "ExecuteTime": {
     "end_time": "2021-02-10T00:07:46.706183Z",
     "start_time": "2021-02-10T00:07:46.703074Z"
    }
   },
   "outputs": [],
   "source": [
    "def precision_at_k( data, k=2000 ):\n",
    "    # reset index\n",
    "    data = data.reset_index( drop=True )\n",
    "\n",
    "    # create ranking order\n",
    "    data['ranking'] = data.index + 1 \n",
    "\n",
    "    data['precision_at_k'] = data['response'].cumsum() / data['ranking']\n",
    "\n",
    "    return data.loc[k, 'precision_at_k']\n"
   ]
  },
  {
   "cell_type": "code",
   "execution_count": null,
   "id": "behavioral-joint",
   "metadata": {
    "ExecuteTime": {
     "end_time": "2021-02-10T00:11:05.326568Z",
     "start_time": "2021-02-10T00:11:05.322883Z"
    }
   },
   "outputs": [],
   "source": [
    "def recall_at_k( data, k=2000 ):\n",
    "    # reset index\n",
    "    data = data.reset_index( drop=True )\n",
    "\n",
    "    # create ranking order\n",
    "    data['ranking'] = data.index + 1 \n",
    "\n",
    "    data['recall_at_k'] = data['response'].cumsum() / data['response'].sum()\n",
    "\n",
    "    return data.loc[k, 'recall_at_k']\n"
   ]
  },
  {
   "cell_type": "code",
   "execution_count": null,
   "id": "excess-medium",
   "metadata": {
    "ExecuteTime": {
     "end_time": "2021-02-10T00:11:05.907228Z",
     "start_time": "2021-02-10T00:11:05.864278Z"
    }
   },
   "outputs": [],
   "source": [
    "# copy data\n",
    "df8 = x_validation.copy()\n",
    "df8['response'] = y_validation.copy()\n",
    "\n",
    "# propensity score\n",
    "df8['score'] = yhat_knn[:, 1].tolist()\n",
    "\n",
    "# sorte clients by propensity score\n",
    "df8 = df8.sort_values( 'score', ascending=False )\n",
    "\n",
    "# compute precision at k\n",
    "precision_at_50 = precision_at_k( df8, k=50 )\n",
    "print( 'Precision at K: {}'.format( precision_at_50 ) )\n",
    "\n",
    "# compute precision at k\n",
    "precision_at_50 = recall_at_k( df8, k=50 )\n",
    "print( 'Recall at K: {}'.format( precision_at_50 ) )"
   ]
  },
  {
   "cell_type": "code",
   "execution_count": null,
   "id": "otherwise-comfort",
   "metadata": {},
   "outputs": [],
   "source": []
  },
  {
   "cell_type": "code",
   "execution_count": null,
   "id": "actual-shield",
   "metadata": {},
   "outputs": [],
   "source": []
  },
  {
   "cell_type": "code",
   "execution_count": null,
   "id": "creative-marsh",
   "metadata": {},
   "outputs": [],
   "source": []
  },
  {
   "cell_type": "code",
   "execution_count": null,
   "id": "subsequent-chemical",
   "metadata": {},
   "outputs": [],
   "source": []
  },
  {
   "cell_type": "code",
   "execution_count": null,
   "id": "boring-pierre",
   "metadata": {},
   "outputs": [],
   "source": []
  },
  {
   "cell_type": "code",
   "execution_count": null,
   "id": "modular-popularity",
   "metadata": {},
   "outputs": [],
   "source": []
  },
  {
   "cell_type": "code",
   "execution_count": null,
   "id": "severe-joyce",
   "metadata": {},
   "outputs": [],
   "source": []
  },
  {
   "cell_type": "code",
   "execution_count": null,
   "id": "subject-saskatchewan",
   "metadata": {},
   "outputs": [],
   "source": []
  }
 ],
 "metadata": {
  "kernelspec": {
   "display_name": "Python 3 (ipykernel)",
   "language": "python",
   "name": "python3"
  },
  "language_info": {
   "codemirror_mode": {
    "name": "ipython",
    "version": 3
   },
   "file_extension": ".py",
   "mimetype": "text/x-python",
   "name": "python",
   "nbconvert_exporter": "python",
   "pygments_lexer": "ipython3",
   "version": "3.8.0"
  }
 },
 "nbformat": 4,
 "nbformat_minor": 5
}
